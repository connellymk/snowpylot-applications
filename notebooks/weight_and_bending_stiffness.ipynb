{
 "cells": [
  {
   "cell_type": "markdown",
   "metadata": {},
   "source": [
    "Goal: Violin plots of the following data\n",
    "\n",
    "Y-axis (1 plot for each variable): Weight, Bending Stiffness (D11) above \"weak layer\"\n",
    "    Weak Layer is: \n",
    "    - Failure layer of test (ECT, PST)\n",
    "    - failure layer of avalanche (Crown, flank)\n",
    "    - or identified layer of concern (Layer of concern)\n",
    "\n",
    "X-axis: Different groups of pits\n",
    "    - ECTP\n",
    "    - ECTN\n",
    "    - PST < 0.5\n",
    "    - Pits on crowns\n",
    "    - Pits on flanks\n",
    "    - Layer of concern\n",
    "\n",
    "\n",
    "Larger dataset\n",
    "- Last five snow years\n",
    "\n",
    "\n",
    "Need to code\n",
    "\n",
    "Weight\n",
    "- Density from hand hardness and grain form\n",
    "- Weight above weak layer (from layer densities and thickensses)\n",
    "\n",
    "Bending stiffness\n",
    "- Elastic modulus (p 1481)\n",
    "    "
   ]
  }
 ],
 "metadata": {
  "language_info": {
   "name": "python"
  }
 },
 "nbformat": 4,
 "nbformat_minor": 2
}
