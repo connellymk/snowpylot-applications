{
 "cells": [
  {
   "cell_type": "markdown",
   "metadata": {},
   "source": [
    "Goal: Violin plots of the following data\n",
    "\n",
    "Y-axis (1 plot for each variable): Weight, Bending Stiffness (D11) above \"weak layer\"\n",
    "    Weak Layer is: \n",
    "    - Failure layer of test (ECT, PST)\n",
    "    - failure layer of avalanche (Crown, flank)\n",
    "    - or identified layer of concern (Layer of concern)\n",
    "\n",
    "X-axis: Different groups of pits\n",
    "    - ECTP\n",
    "    - ECTN\n",
    "    - PST < 0.5\n",
    "    - Pits on crowns\n",
    "    - Pits on flanks\n",
    "    - Layer of concern\n",
    "\n",
    "\n",
    "Larger dataset\n",
    "- Last five snow years\n",
    "\n",
    "\n",
    "Need to code\n",
    "\n",
    "Weight\n",
    "- Density from hand hardness and grain form\n",
    "- Weight above weak layer (from layer densities and thickensses)\n",
    "\n",
    "Bending stiffness\n",
    "- Elastic modulus (p 1481)\n",
    "    "
   ]
  },
  {
   "cell_type": "code",
   "execution_count": 9,
   "metadata": {},
   "outputs": [],
   "source": [
    "import os\n",
    "import pandas as pd\n",
    "import numpy as np\n",
    "import matplotlib.pyplot as plt\n",
    "from snowpylot import caaml_parser"
   ]
  },
  {
   "cell_type": "markdown",
   "metadata": {
    "vscode": {
     "languageId": "plaintext"
    }
   },
   "source": [
    "parse_pits function: Parses all pits in a specified folder"
   ]
  },
  {
   "cell_type": "code",
   "execution_count": 10,
   "metadata": {},
   "outputs": [],
   "source": [
    "def parse_pits(folder_path):\n",
    "    \"\"\"\n",
    "    Function to parse CAAML files in the specified folder\n",
    "    \"\"\"\n",
    "\n",
    "    files = [\n",
    "        f for f in os.listdir(folder_path) if f.endswith(\".xml\")\n",
    "    ]  # List of all .xml files in the folder\n",
    "\n",
    "    pits_list = []\n",
    "\n",
    "    for file in files:  # iterate through each file in the folder\n",
    "        file_path = folder_path + \"/\" + file  # create the file path\n",
    "        pit = caaml_parser(file_path)  # parse the file\n",
    "        pits_list.append(pit)\n",
    "\n",
    "    return pits_list"
   ]
  },
  {
   "cell_type": "markdown",
   "metadata": {},
   "source": [
    "Specify folders for 2020-2024 Water Years and parse files"
   ]
  },
  {
   "cell_type": "code",
   "execution_count": 11,
   "metadata": {},
   "outputs": [],
   "source": [
    "# Define folders and parse pits\n",
    "\n",
    "pits_19_20 = parse_pits(\"../snowpits/by_season/2019-2020\")\n",
    "pits_20_21 = parse_pits(\"../snowpits/by_season/2020-2021\")\n",
    "pits_21_22 = parse_pits(\"../snowpits/by_season/2021-2022\")\n",
    "pits_22_23 = parse_pits(\"../snowpits/by_season/2022-2023\")\n",
    "pits_23_24 = parse_pits(\"../snowpits/by_season/2023-2024\")\n",
    "\n",
    "all_pits = (\n",
    "    pits_19_20 + pits_20_21 + pits_21_22 + pits_22_23 + pits_23_24\n",
    ")  # list of all pits"
   ]
  },
  {
   "cell_type": "markdown",
   "metadata": {},
   "source": [
    "Geldsetzer table of density from hand hardness and grain form"
   ]
  },
  {
   "cell_type": "code",
   "execution_count": 12,
   "metadata": {},
   "outputs": [],
   "source": [
    "geldsetzer_df = pd.read_csv('geldsetzer_table.csv', index_col=0)\n",
    "\n",
    "def get_density(hand_hardness, grain_form, df=geldsetzer_df):\n",
    "    \"\"\"\n",
    "    Get density value for a specific hand hardness and grain form combination.\n",
    "    \n",
    "    Parameters:\n",
    "    df (pd.DataFrame): The Geldsetzer table DataFrame\n",
    "    hand_hardness (str): Hand hardness value (e.g., 'F-', '4F+', 'P-', etc.)\n",
    "    grain_form (str): Grain form (e.g., 'PP', 'DF', 'RG', 'FC', 'DH', etc.)\n",
    "    \n",
    "    Returns:\n",
    "    float: Density value, or NaN if not available\n",
    "    \"\"\"\n",
    "    try:\n",
    "        return df.loc[hand_hardness, grain_form]\n",
    "    except KeyError as e:\n",
    "        print(f\"Key not found: {e}\")\n",
    "        return np.nan"
   ]
  },
  {
   "cell_type": "code",
   "execution_count": 13,
   "metadata": {},
   "outputs": [
    {
     "name": "stdout",
     "output_type": "stream",
     "text": [
      "69.0\n"
     ]
    }
   ],
   "source": [
    "d = get_density('F-', 'PP')\n",
    "print(d)"
   ]
  },
  {
   "cell_type": "markdown",
   "metadata": {},
   "source": [
    "Get weight from layer and density info\n",
    "\n",
    "NOTE: What to do about\n",
    "- Layers with grain forms not in Geldsetzer table?\n",
    "    - Opportunity to add to the table?\n",
    "- Pits where not all of the layers above the weak layer have the info needed to calculate density"
   ]
  },
  {
   "cell_type": "code",
   "execution_count": 31,
   "metadata": {},
   "outputs": [
    {
     "name": "stdout",
     "output_type": "stream",
     "text": [
      "Layer 1:\n",
      "Hardness: F+ Grain form: PP\n",
      "Density: 93.0\n",
      "Weight: 10.23\n",
      "\n",
      "Layer 2:\n",
      "Hardness: I Grain form: IF\n",
      "Key not found: 'IF'\n",
      "Density: nan\n",
      "Weight: nan\n",
      "\n",
      "Layer 3:\n",
      "Hardness: 4F+ Grain form: DF\n",
      "Density: 149.0\n",
      "Weight: 20.860000000000003\n",
      "\n",
      "Layer 4:\n",
      "No density info for this layer\n",
      "Layer 5:\n",
      "Hardness: P Grain form: RG\n",
      "Density: 273.0\n",
      "Weight: 125.58000000000001\n",
      "\n"
     ]
    }
   ],
   "source": [
    "pit = all_pits[1]\n",
    "layers = pit.snow_profile.layers\n",
    "\n",
    "for i, layer in enumerate(layers):\n",
    "    print(f\"Layer {i+1}:\")\n",
    "    # If layer has info needed to calculate density\n",
    "    if layer.hardness is not None and layer.grain_form_primary is not None:\n",
    "        print(\"Hardness:\", layer.hardness, \"Grain form:\", layer.grain_form_primary.grain_form)\n",
    "        \n",
    "        density = get_density(layer.hardness, layer.grain_form_primary.grain_form)\n",
    "        print(\"Density:\", density)\n",
    "\n",
    "        thickness_m = (layer.thickness[0])/100 # convert cm to m\n",
    "        weight = thickness_m * density # Weight in kg (assuming 1 m^2 cross-section)\n",
    "        print(\"Weight:\", weight)\n",
    "        print(\"\")\n",
    "    else:\n",
    "        print(\"No density info for this layer\")\n",
    "\n",
    "\n"
   ]
  }
 ],
 "metadata": {
  "kernelspec": {
   "display_name": "venv",
   "language": "python",
   "name": "python3"
  },
  "language_info": {
   "codemirror_mode": {
    "name": "ipython",
    "version": 3
   },
   "file_extension": ".py",
   "mimetype": "text/x-python",
   "name": "python",
   "nbconvert_exporter": "python",
   "pygments_lexer": "ipython3",
   "version": "3.13.2"
  }
 },
 "nbformat": 4,
 "nbformat_minor": 2
}
